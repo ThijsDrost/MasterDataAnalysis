{
 "cells": [
  {
   "cell_type": "code",
   "id": "initial_id",
   "metadata": {
    "collapsed": true,
    "ExecuteTime": {
     "end_time": "2024-05-20T15:47:51.585904Z",
     "start_time": "2024-05-20T15:47:51.411882Z"
    }
   },
   "source": [
    "import math\n",
    "import sympy\n",
    "\n",
    "H, Ka, c, x = sympy.symbols('[H+] Ka c x')\n",
    "\n",
    "equation = (H + c*x)*(c*x)/(c*(1-x)) - Ka\n",
    "sympy.simplify(equation)"
   ],
   "outputs": [
    {
     "data": {
      "text/plain": [
       "(-Ka*(x - 1) - x*([H+] + c*x))/(x - 1)"
      ],
      "text/latex": "$\\displaystyle \\frac{- Ka \\left(x - 1\\right) - x \\left([H+] + c x\\right)}{x - 1}$"
     },
     "execution_count": 116,
     "metadata": {},
     "output_type": "execute_result"
    }
   ],
   "execution_count": 116
  },
  {
   "metadata": {
    "ExecuteTime": {
     "end_time": "2024-05-20T15:47:51.945502Z",
     "start_time": "2024-05-20T15:47:51.588909Z"
    }
   },
   "cell_type": "code",
   "source": [
    "solution = sympy.solve(equation, x)[1]\n",
    "sympy.simplify(solution)"
   ],
   "id": "c392d6966763a850",
   "outputs": [
    {
     "data": {
      "text/plain": [
       "(-Ka - [H+] + sqrt(Ka**2 + 2*Ka*[H+] + 4*Ka*c + [H+]**2))/(2*c)"
      ],
      "text/latex": "$\\displaystyle \\frac{- Ka - [H+] + \\sqrt{Ka^{2} + 2 Ka [H+] + 4 Ka c + [H+]^{2}}}{2 c}$"
     },
     "execution_count": 117,
     "metadata": {},
     "output_type": "execute_result"
    }
   ],
   "execution_count": 117
  },
  {
   "metadata": {
    "ExecuteTime": {
     "end_time": "2024-05-20T15:47:51.970506Z",
     "start_time": "2024-05-20T15:47:51.947511Z"
    }
   },
   "cell_type": "code",
   "source": [
    "new_equation = equation.subs(x, solution)\n",
    "new_equation"
   ],
   "id": "602315bb00f4b625",
   "outputs": [
    {
     "data": {
      "text/plain": [
       "-Ka + (-Ka - [H+] + sqrt(Ka**2 + 2*Ka*[H+] + 4*Ka*c + [H+]**2))*(-Ka/2 + [H+]/2 + sqrt(Ka**2 + 2*Ka*[H+] + 4*Ka*c + [H+]**2)/2)/(2*c*(1 - (-Ka - [H+] + sqrt(Ka**2 + 2*Ka*[H+] + 4*Ka*c + [H+]**2))/(2*c)))"
      ],
      "text/latex": "$\\displaystyle - Ka + \\frac{\\left(- Ka - [H+] + \\sqrt{Ka^{2} + 2 Ka [H+] + 4 Ka c + [H+]^{2}}\\right) \\left(- \\frac{Ka}{2} + \\frac{[H+]}{2} + \\frac{\\sqrt{Ka^{2} + 2 Ka [H+] + 4 Ka c + [H+]^{2}}}{2}\\right)}{2 c \\left(1 - \\frac{- Ka - [H+] + \\sqrt{Ka^{2} + 2 Ka [H+] + 4 Ka c + [H+]^{2}}}{2 c}\\right)}$"
     },
     "execution_count": 118,
     "metadata": {},
     "output_type": "execute_result"
    }
   ],
   "execution_count": 118
  },
  {
   "metadata": {
    "ExecuteTime": {
     "end_time": "2024-05-20T15:47:51.983895Z",
     "start_time": "2024-05-20T15:47:51.973522Z"
    }
   },
   "cell_type": "code",
   "source": [
    "phres = H + c*solution\n",
    "phres"
   ],
   "id": "aa96b3c14e41d2a7",
   "outputs": [
    {
     "data": {
      "text/plain": [
       "-Ka/2 + [H+]/2 + sqrt(Ka**2 + 2*Ka*[H+] + 4*Ka*c + [H+]**2)/2"
      ],
      "text/latex": "$\\displaystyle - \\frac{Ka}{2} + \\frac{[H+]}{2} + \\frac{\\sqrt{Ka^{2} + 2 Ka [H+] + 4 Ka c + [H+]^{2}}}{2}$"
     },
     "execution_count": 119,
     "metadata": {},
     "output_type": "execute_result"
    }
   ],
   "execution_count": 119
  },
  {
   "metadata": {
    "ExecuteTime": {
     "end_time": "2024-05-20T15:47:52.030836Z",
     "start_time": "2024-05-20T15:47:51.985907Z"
    }
   },
   "cell_type": "code",
   "source": [
    "H, OH, HCO, CO, HHCO = sympy.symbols('H+ OH- HCO3 CO3 H2CO3')\n",
    "\n",
    "HCO = 1.26e-5*4.46e-7/H\n",
    "CO = 4.69e-11*(HCO/H)\n",
    "equation = HCO + 2*CO - H\n",
    "print(equation)\n",
    "print(CO)\n",
    "result = sympy.solve(equation, H)[1].as_real_imag()[0]\n",
    "CO = CO.subs(H, result)\n",
    "HCO = HCO.subs(H, result)\n",
    "print('pH:', -math.log10(result))\n",
    "print(f'H+: {result:.3e}, HCO3: {HCO:.3e}, CO3: {CO:.3e}')"
   ],
   "id": "42a801a3e939b9cf",
   "outputs": [
    {
     "name": "stdout",
     "output_type": "stream",
     "text": [
      "-H+ + 5.6196e-12/H+ + 5.2711848e-22/H+**2\n",
      "2.6355924e-22/H+**2\n",
      "pH: 5.625138706223633\n",
      "H+: 2.371e-6, HCO3: 2.371e-6, CO3: 4.690e-11\n"
     ]
    }
   ],
   "execution_count": 120
  }
 ],
 "metadata": {
  "kernelspec": {
   "display_name": "Python 3",
   "language": "python",
   "name": "python3"
  },
  "language_info": {
   "codemirror_mode": {
    "name": "ipython",
    "version": 2
   },
   "file_extension": ".py",
   "mimetype": "text/x-python",
   "name": "python",
   "nbconvert_exporter": "python",
   "pygments_lexer": "ipython2",
   "version": "2.7.6"
  }
 },
 "nbformat": 4,
 "nbformat_minor": 5
}
