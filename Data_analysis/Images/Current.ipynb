{
 "cells": [
  {
   "metadata": {
    "ExecuteTime": {
     "end_time": "2024-08-15T14:45:51.997630Z",
     "start_time": "2024-08-15T14:45:51.875671Z"
    }
   },
   "cell_type": "code",
   "source": [
    "import numpy as np\n",
    "import lmfit\n",
    "\n",
    "from General.experiments.hdf5.readHDF5 import read_hdf5\n",
    "from General.experiments.waveforms import MeasuredWaveforms\n",
    "from General.plotting import plot, cbar\n",
    "from General.plotting import linestyles\n",
    "import General.numpy_funcs as npf\n",
    "\n",
    "out_loc = r'E:\\OneDrive - TU Eindhoven\\Master thesis\\Tex\\Images\\Method'"
   ],
   "id": "4f4b80f37fd3cd3d",
   "outputs": [],
   "execution_count": 11
  },
  {
   "metadata": {
    "ExecuteTime": {
     "end_time": "2024-08-15T14:48:55.845597Z",
     "start_time": "2024-08-15T14:47:39.776369Z"
    }
   },
   "cell_type": "code",
   "source": [
    "bloc = r'E:\\OneDrive - TU Eindhoven\\Master thesis\\Results\\Air_3slm_Ar_1slm_9kV_'\n",
    "for t in (0.3, 0.5, 1, 2,):\n",
    "    loc = rf'{bloc}{t}us.hdf5'\n",
    "    data = read_hdf5(loc)\n",
    "    waveform_data = data['waveforms']\n",
    "    waveforms = MeasuredWaveforms.from_waveforms(waveform_data, channels={1: 'voltage', 2: 'current', 3: 'pulse_generator', 4: 'ground_current'})\n",
    "    \n",
    "    is_on = waveforms.is_on()\n",
    "    num = np.sum(is_on.astype(int))\n",
    "    values = np.argwhere(np.diff(is_on.astype(int)) == 1)[0][0] + np.linspace(10, num-52, 10, dtype=int)\n",
    "    indexes = values + np.arange(20, dtype=int)[:, None]\n",
    "    \n",
    "    times = np.mean(waveforms.time[indexes], axis=0)\n",
    "    currents = np.mean(waveforms.currents[indexes], axis=0)\n",
    "    rel_times = waveforms.time_offset[values]\n",
    "    rel_times = rel_times - rel_times[0]\n",
    "    colors, _ = cbar.cbar_norm_colors(rel_times)\n",
    "    labels = [f'{rel_time/60:.0f}' for rel_time in rel_times]\n",
    "    \n",
    "    plot_kwargs = {'xlabel': 'Time [us]', 'ylabel': 'Current [A]', 'xlim': (0, 0.7+t)}\n",
    "    legend_kwargs= {'title': 'Time [min]', 'loc': 'upper right'}\n",
    "    save_loc = rf'{out_loc}\\currents_{t}.pdf'\n",
    "    \n",
    "    l_kwargs = linestyles.legend_linelooks_by(color_labels=labels, color_values=colors, color_title='Time [min]')\n",
    "    \n",
    "    plot.lines(1e6*times, currents, colors=colors, labels=labels, plot_kwargs=plot_kwargs, legend_kwargs=legend_kwargs, save_loc=save_loc)\n",
    "    plot.lines(1e6*times, currents, colors=colors, labels=labels, plot_kwargs=plot_kwargs, legend_kwargs=legend_kwargs, save_loc=save_loc.replace('.pdf', '_l.pdf'))\n",
    "    \n",
    "    max_time = 1e6*times[1][np.argmax(currents[1])]\n",
    "    min_time = 1e6*times[1][np.argmin(currents[1])]\n",
    "    dt =min_time - max_time\n",
    "    \n",
    "    save_loc = rf'{out_loc}\\currents_{t}2.pdf'\n",
    "    fig, ax = plot.lines(1e6*times, currents - currents[0], colors=colors, labels=labels, plot_kwargs=plot_kwargs, legend_kwargs=legend_kwargs, show=False)\n",
    "    ax.axvline(max_time, color='black', linestyle='-')\n",
    "    ax.axvline(min_time, color='black', linestyle='-')\n",
    "    if t == 0.3:\n",
    "        ax.axvline(max_time + 0.125, color='black', linestyle=':')\n",
    "        ax.axvline(min_time - 0.125, color='black', linestyle=':')\n",
    "    else:\n",
    "        ax.axvline(max_time + 0.25, color='black', linestyle=':')\n",
    "        ax.axvline(min_time - 0.15, color='black', linestyle=':')\n",
    "    fig.savefig(save_loc)\n",
    "    \n",
    "    n = 100\n",
    "    _, f_val, f_std = waveforms.background_current_fitting(t, block_average=n)\n",
    "    on_mask = waveforms.is_on()\n",
    "    a_val, a_std = waveforms.background_current_averaging(on_mask=on_mask, block_average=n)\n",
    "    a_val2, a_std2 = waveforms.background_current_averaging(on_mask=on_mask, block_average=n, start_offset=0.45, end_offset=0.45)\n",
    "    times = 1e6*npf.block_average(waveforms.time[on_mask], n)\n",
    "    currents = npf.block_average(waveforms.currents[on_mask], n)\n",
    "    start_time = np.average(times, axis=0)[np.argmax(np.average(currents, axis=0))]\n",
    "    end_time = np.average(times, axis=0)[np.argmin(np.average(currents, axis=0))]\n",
    "    s_time = start_time + (end_time - start_time)/3\n",
    "    e_time = end_time - (end_time - start_time)/3\n",
    "    \n",
    "    plot_kwargs = {'xlabel': 'Time [us]', 'ylabel': 'Current [A]', 'xlim': (0.375, 0.19+t)}\n",
    "    fig, ax = plot.lines(times, currents, show=False, plot_kwargs=plot_kwargs)\n",
    "    ax.axvline(s_time, color='black', linestyle=':')\n",
    "    ax.axvline(e_time, color='black', linestyle=':')\n",
    "    for i, (value, value2, value3) in enumerate(zip(f_val, a_val, a_val2)):\n",
    "        ax.axhline(value, color=f'C{i}', linestyle='--')\n",
    "        ax.axhline(value2, color=f'C{i}', linestyle='-')\n",
    "        ax.axhline(value3, color=f'C{i}', linestyle=':')\n",
    "\n",
    "plot.export_legend(l_kwargs, rf'{out_loc}\\time_legend.pdf')"
   ],
   "id": "f3da26c617c0e231",
   "outputs": [
    {
     "ename": "ValueError",
     "evalue": "The truth value of an array with more than one element is ambiguous. Use a.any() or a.all()",
     "output_type": "error",
     "traceback": [
      "\u001B[1;31m---------------------------------------------------------------------------\u001B[0m",
      "\u001B[1;31mValueError\u001B[0m                                Traceback (most recent call last)",
      "Cell \u001B[1;32mIn[13], line 24\u001B[0m\n\u001B[0;32m     21\u001B[0m legend_kwargs\u001B[38;5;241m=\u001B[39m {\u001B[38;5;124m'\u001B[39m\u001B[38;5;124mtitle\u001B[39m\u001B[38;5;124m'\u001B[39m: \u001B[38;5;124m'\u001B[39m\u001B[38;5;124mTime [min]\u001B[39m\u001B[38;5;124m'\u001B[39m, \u001B[38;5;124m'\u001B[39m\u001B[38;5;124mloc\u001B[39m\u001B[38;5;124m'\u001B[39m: \u001B[38;5;124m'\u001B[39m\u001B[38;5;124mupper right\u001B[39m\u001B[38;5;124m'\u001B[39m}\n\u001B[0;32m     22\u001B[0m save_loc \u001B[38;5;241m=\u001B[39m \u001B[38;5;124mrf\u001B[39m\u001B[38;5;124m'\u001B[39m\u001B[38;5;132;01m{\u001B[39;00mout_loc\u001B[38;5;132;01m}\u001B[39;00m\u001B[38;5;124m\\\u001B[39m\u001B[38;5;124mcurrents_\u001B[39m\u001B[38;5;132;01m{\u001B[39;00mt\u001B[38;5;132;01m}\u001B[39;00m\u001B[38;5;124m.pdf\u001B[39m\u001B[38;5;124m'\u001B[39m\n\u001B[1;32m---> 24\u001B[0m l_kwargs \u001B[38;5;241m=\u001B[39m linestyles\u001B[38;5;241m.\u001B[39mlegend_linelooks_by(color_labels\u001B[38;5;241m=\u001B[39mlabels, color_values\u001B[38;5;241m=\u001B[39mcolors, color_title\u001B[38;5;241m=\u001B[39m\u001B[38;5;124m'\u001B[39m\u001B[38;5;124mTime [min]\u001B[39m\u001B[38;5;124m'\u001B[39m)\n\u001B[0;32m     26\u001B[0m plot\u001B[38;5;241m.\u001B[39mlines(\u001B[38;5;241m1e6\u001B[39m\u001B[38;5;241m*\u001B[39mtimes, currents, colors\u001B[38;5;241m=\u001B[39mcolors, labels\u001B[38;5;241m=\u001B[39mlabels, plot_kwargs\u001B[38;5;241m=\u001B[39mplot_kwargs, legend_kwargs\u001B[38;5;241m=\u001B[39mlegend_kwargs, save_loc\u001B[38;5;241m=\u001B[39msave_loc)\n\u001B[0;32m     27\u001B[0m plot\u001B[38;5;241m.\u001B[39mlines(\u001B[38;5;241m1e6\u001B[39m\u001B[38;5;241m*\u001B[39mtimes, currents, colors\u001B[38;5;241m=\u001B[39mcolors, labels\u001B[38;5;241m=\u001B[39mlabels, plot_kwargs\u001B[38;5;241m=\u001B[39mplot_kwargs, legend_kwargs\u001B[38;5;241m=\u001B[39mlegend_kwargs, save_loc\u001B[38;5;241m=\u001B[39msave_loc\u001B[38;5;241m.\u001B[39mreplace(\u001B[38;5;124m'\u001B[39m\u001B[38;5;124m.pdf\u001B[39m\u001B[38;5;124m'\u001B[39m, \u001B[38;5;124m'\u001B[39m\u001B[38;5;124m_l.pdf\u001B[39m\u001B[38;5;124m'\u001B[39m))\n",
      "File \u001B[1;32m~\\PycharmProjects\\MasterDataAnalysis\\General\\plotting\\linestyles.py:243\u001B[0m, in \u001B[0;36mlegend_linelooks_by\u001B[1;34m(color_labels, linestyle_labels, marker_labels, color_values, linestyle_values, marker_values, no_color, no_marker, no_linestyle, color_title, marker_title, linestyle_title, sort)\u001B[0m\n\u001B[0;32m    238\u001B[0m     label_values\u001B[38;5;241m.\u001B[39mextend(label)\n\u001B[0;32m    240\u001B[0m     \u001B[38;5;28;01mreturn\u001B[39;00m line_kwargs_iter, {\u001B[38;5;124m'\u001B[39m\u001B[38;5;124mhandles\u001B[39m\u001B[38;5;124m'\u001B[39m: line_handles, \u001B[38;5;124m'\u001B[39m\u001B[38;5;124mlabels\u001B[39m\u001B[38;5;124m'\u001B[39m: label_values}\n\u001B[1;32m--> 243\u001B[0m \u001B[38;5;28;01mdef\u001B[39;00m \u001B[38;5;21mlegend_linelooks_by\u001B[39m(color_labels: Sequence[\u001B[38;5;28mstr\u001B[39m] \u001B[38;5;241m=\u001B[39m \u001B[38;5;28;01mNone\u001B[39;00m, linestyle_labels: Sequence[\u001B[38;5;28mstr\u001B[39m] \u001B[38;5;241m=\u001B[39m \u001B[38;5;28;01mNone\u001B[39;00m,\n\u001B[0;32m    244\u001B[0m                         marker_labels: Sequence[\u001B[38;5;28mstr\u001B[39m] \u001B[38;5;241m=\u001B[39m \u001B[38;5;28;01mNone\u001B[39;00m, color_values: Sequence \u001B[38;5;241m=\u001B[39m \u001B[38;5;28;01mNone\u001B[39;00m, linestyle_values: Sequence \u001B[38;5;241m=\u001B[39m \u001B[38;5;28;01mNone\u001B[39;00m,\n\u001B[0;32m    245\u001B[0m                         marker_values: Sequence \u001B[38;5;241m=\u001B[39m \u001B[38;5;28;01mNone\u001B[39;00m, no_color\u001B[38;5;241m=\u001B[39m\u001B[38;5;124m'\u001B[39m\u001B[38;5;124mk\u001B[39m\u001B[38;5;124m'\u001B[39m, no_marker\u001B[38;5;241m=\u001B[39m\u001B[38;5;28;01mTrue\u001B[39;00m, no_linestyle\u001B[38;5;241m=\u001B[39m\u001B[38;5;28;01mTrue\u001B[39;00m,\n\u001B[0;32m    246\u001B[0m                         color_title\u001B[38;5;241m=\u001B[39m\u001B[38;5;28;01mNone\u001B[39;00m, marker_title\u001B[38;5;241m=\u001B[39m\u001B[38;5;28;01mNone\u001B[39;00m, linestyle_title\u001B[38;5;241m=\u001B[39m\u001B[38;5;28;01mNone\u001B[39;00m, sort\u001B[38;5;241m=\u001B[39m\u001B[38;5;28;01mTrue\u001B[39;00m):\n\u001B[0;32m    247\u001B[0m     \u001B[38;5;66;03m# make the line_kwargs_iter\u001B[39;00m\n\u001B[0;32m    248\u001B[0m     \u001B[38;5;28;01mdef\u001B[39;00m \u001B[38;5;21mmake_values\u001B[39m(labels, values, name, default):\n\u001B[0;32m    249\u001B[0m         \u001B[38;5;28;01mif\u001B[39;00m labels \u001B[38;5;129;01mis\u001B[39;00m \u001B[38;5;28;01mNone\u001B[39;00m:\n",
      "\u001B[1;31mValueError\u001B[0m: The truth value of an array with more than one element is ambiguous. Use a.any() or a.all()"
     ]
    }
   ],
   "execution_count": 13
  },
  {
   "metadata": {},
   "cell_type": "code",
   "source": [
    "is_on = waveforms.is_on()\n",
    "num = np.sum(is_on.astype(int))\n",
    "values = np.argwhere(np.diff(is_on.astype(int)) == 1)[0][0] + np.linspace(10, num-52, 10, dtype=int)\n",
    "indexes = values + np.arange(20, dtype=int)[:, None]\n",
    "\n",
    "times = np.mean(waveforms.time[indexes], axis=0)\n",
    "currents = np.mean(waveforms.currents[indexes], axis=0)\n",
    "rel_times = waveforms.time_offset[values]\n",
    "rel_times = rel_times - rel_times[0]\n",
    "colors, _ = cbar.cbar_norm_colors(rel_times)\n",
    "labels = [f'{rel_time/60:.0f}' for rel_time in rel_times]\n",
    "\n",
    "plot_kwargs = {'xlabel': 'Time [us]', 'ylabel': 'Current [A]', 'xlim': (0, 2)}\n",
    "legend_kwargs= {'title': 'Time [min]', 'loc': 'upper right'}\n",
    "save_loc = rf'{out_loc}\\currents.pdf'\n",
    "plot.lines(1e6*times, currents, colors=colors, labels=labels, plot_kwargs=plot_kwargs, legend_kwargs=legend_kwargs, save_loc=save_loc)"
   ],
   "id": "babe5a0eba23fd65",
   "outputs": [],
   "execution_count": null
  },
  {
   "metadata": {},
   "cell_type": "code",
   "source": [
    "start_time = np.average(waveforms.time, axis=0)[np.argmax(np.average(waveforms.currents, axis=0))] - 1e-7\n",
    "end_time = np.average(waveforms.time, axis=0)[np.argmin(np.average(waveforms.currents, axis=0))] - 1e-7\n",
    "\n",
    "vals, stds = waveforms.background_current_averaging()\n",
    "vals, stds = vals[values], stds[values]\n",
    "\n",
    "mask = (waveforms.time[0] > end_time - 1e-6/3) & (waveforms.time[0] < end_time)\n",
    "model = waveforms._background_current_fitting_model\n",
    "lmfit_model = lmfit.Model(model)\n",
    "lmfit_model.set_param_hint('amplitude', value=0.25, min=0)\n",
    "lmfit_model.set_param_hint('decay', value=2e-6)\n",
    "lmfit_model.set_param_hint('phase', value=-1.5)\n",
    "lmfit_model.set_param_hint('length', value=1.9e-7)\n",
    "lmfit_model.set_param_hint('offset', value=0.8)\n",
    "params = lmfit_model.make_params()\n",
    "\n",
    "vals2 = np.zeros_like(vals)\n",
    "for index, (tim, current) in enumerate(zip(times, currents)):\n",
    "    result = lmfit_model.fit(current[mask], params, x=tim[mask])\n",
    "    vals2[index] = result.best_values['offset']\n",
    "    params = result.params\n",
    "\n",
    "plot_kwargs = {'xlabel': 'Time [us]', 'ylabel': 'Current [A]', 'xlim': (0.4, t)}\n",
    "legend_kwargs = {'loc': 'center left', 'bbox_to_anchor': (1, 0.5), 'title':'Time [min]'}\n",
    "fig, ax = plot.lines(1e6*times, currents, colors=colors, labels=labels, plot_kwargs=plot_kwargs, legend_kwargs=legend_kwargs, show=False)\n",
    "ax.axvline(end_time*1e6, color='black', linestyle='--')\n",
    "ax.axvline((end_time)*1e6-(1/3), color='black', linestyle='--')\n",
    "for i, (value, std) in enumerate(zip(vals, stds)):\n",
    "    ax.axhline(value, color=colors[i], linestyle=':')\n",
    "    ax.axhline(vals2[i], color=colors[i], linestyle='--')\n",
    "fig.show()\n",
    "\n",
    "print(start_time, end_time)"
   ],
   "id": "5a478db70205fcc",
   "outputs": [],
   "execution_count": null
  }
 ],
 "metadata": {
  "kernelspec": {
   "display_name": "Python 3",
   "language": "python",
   "name": "python3"
  },
  "language_info": {
   "codemirror_mode": {
    "name": "ipython",
    "version": 2
   },
   "file_extension": ".py",
   "mimetype": "text/x-python",
   "name": "python",
   "nbconvert_exporter": "python",
   "pygments_lexer": "ipython2",
   "version": "2.7.6"
  }
 },
 "nbformat": 4,
 "nbformat_minor": 5
}
